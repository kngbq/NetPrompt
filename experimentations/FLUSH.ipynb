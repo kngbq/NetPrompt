{
 "cells": [
  {
   "cell_type": "code",
   "execution_count": 1,
   "id": "73aac809-b5ac-42c7-995a-63ae89b04328",
   "metadata": {},
   "outputs": [
    {
     "name": "stdout",
     "output_type": "stream",
     "text": [
      "1: lo: <LOOPBACK,UP,LOWER_UP> mtu 65536 qdisc noqueue state UNKNOWN mode DEFAULT group default qlen 1000\n",
      "    link/loopback 00:00:00:00:00:00 brd 00:00:00:00:00:00\n",
      "2: eno1np0: <BROADCAST,MULTICAST,UP,LOWER_UP> mtu 1500 qdisc mq state UP mode DEFAULT group default qlen 1000\n",
      "    link/ether bc:97:e1:79:01:40 brd ff:ff:ff:ff:ff:ff\n",
      "3: eno2np1: <BROADCAST,MULTICAST> mtu 1500 qdisc noop state DOWN mode DEFAULT group default qlen 1000\n",
      "    link/ether bc:97:e1:79:01:41 brd ff:ff:ff:ff:ff:ff\n",
      "38: gre0@NONE: <NOARP> mtu 1476 qdisc noop state DOWN mode DEFAULT group default qlen 1000\n",
      "    link/gre 0.0.0.0 brd 0.0.0.0\n",
      "39: gretap0@NONE: <BROADCAST,MULTICAST> mtu 1462 qdisc noop state DOWN mode DEFAULT group default qlen 1000\n",
      "    link/ether 00:00:00:00:00:00 brd ff:ff:ff:ff:ff:ff\n",
      "40: erspan0@NONE: <BROADCAST,MULTICAST> mtu 1450 qdisc noop state DOWN mode DEFAULT group default qlen 1000\n",
      "    link/ether 00:00:00:00:00:00 brd ff:ff:ff:ff:ff:ff\n",
      "61: s2-eth5@s1-eth5: <BROADCAST,MULTICAST,UP,LOWER_UP> mtu 1500 qdisc netem state UP mode DEFAULT group default qlen 1000\n",
      "    link/ether ae:e9:49:ff:47:68 brd ff:ff:ff:ff:ff:ff\n",
      "62: s1-eth5@s2-eth5: <BROADCAST,MULTICAST,UP,LOWER_UP> mtu 1500 qdisc netem state UP mode DEFAULT group default qlen 1000\n",
      "    link/ether 06:0c:75:90:f8:bd brd ff:ff:ff:ff:ff:ff\n",
      "63: s3-eth3@s2-eth4: <BROADCAST,MULTICAST,UP,LOWER_UP> mtu 1500 qdisc htb state UP mode DEFAULT group default qlen 1000\n",
      "    link/ether ba:d5:ab:62:a6:a5 brd ff:ff:ff:ff:ff:ff\n",
      "64: s2-eth4@s3-eth3: <BROADCAST,MULTICAST,UP,LOWER_UP> mtu 1500 qdisc htb state UP mode DEFAULT group default qlen 1000\n",
      "    link/ether a2:92:6c:c7:04:38 brd ff:ff:ff:ff:ff:ff\n",
      "65: s3-eth5@s2-eth6: <BROADCAST,MULTICAST,UP,LOWER_UP> mtu 1500 qdisc htb state UP mode DEFAULT group default qlen 1000\n",
      "    link/ether 62:f9:e4:ca:f3:25 brd ff:ff:ff:ff:ff:ff\n",
      "66: s2-eth6@s3-eth5: <BROADCAST,MULTICAST,UP,LOWER_UP> mtu 1500 qdisc htb state UP mode DEFAULT group default qlen 1000\n",
      "    link/ether 1a:be:81:ed:bd:8c brd ff:ff:ff:ff:ff:ff\n",
      "67: s1-eth4@s3-eth4: <BROADCAST,MULTICAST,UP,LOWER_UP> mtu 1500 qdisc htb state UP mode DEFAULT group default qlen 1000\n",
      "    link/ether 22:11:57:99:41:80 brd ff:ff:ff:ff:ff:ff\n",
      "68: s3-eth4@s1-eth4: <BROADCAST,MULTICAST,UP,LOWER_UP> mtu 1500 qdisc htb state UP mode DEFAULT group default qlen 1000\n",
      "    link/ether 8a:ff:4c:6f:87:43 brd ff:ff:ff:ff:ff:ff\n",
      "69: s1-eth6@s3-eth6: <BROADCAST,MULTICAST,UP,LOWER_UP> mtu 1500 qdisc htb state UP mode DEFAULT group default qlen 1000\n",
      "    link/ether 3e:01:db:4a:38:f5 brd ff:ff:ff:ff:ff:ff\n",
      "70: s3-eth6@s1-eth6: <BROADCAST,MULTICAST,UP,LOWER_UP> mtu 1500 qdisc htb state UP mode DEFAULT group default qlen 1000\n",
      "    link/ether ca:18:00:af:89:ef brd ff:ff:ff:ff:ff:ff\n",
      "71: s1-eth2@if5: <BROADCAST,MULTICAST,UP,LOWER_UP> mtu 1500 qdisc htb state UP mode DEFAULT group default qlen 1000\n",
      "    link/ether b6:09:c6:a5:95:1c brd ff:ff:ff:ff:ff:ff link-netnsid 3\n",
      "72: s2-eth2@if5: <BROADCAST,MULTICAST,UP,LOWER_UP> mtu 1500 qdisc htb state UP mode DEFAULT group default qlen 1000\n",
      "    link/ether 26:f1:5b:dc:1f:af brd ff:ff:ff:ff:ff:ff link-netnsid 7\n",
      "73: s3-eth2@if5: <BROADCAST,MULTICAST,UP,LOWER_UP> mtu 1500 qdisc htb state UP mode DEFAULT group default qlen 1000\n",
      "    link/ether 26:16:43:7c:f3:f2 brd ff:ff:ff:ff:ff:ff link-netnsid 8\n",
      "74: s2-eth3@s1-eth3: <BROADCAST,MULTICAST,UP,LOWER_UP> mtu 1500 qdisc htb state UP mode DEFAULT group default qlen 1000\n",
      "    link/ether 56:24:5c:9b:4e:95 brd ff:ff:ff:ff:ff:ff\n",
      "75: s1-eth3@s2-eth3: <BROADCAST,MULTICAST,UP,LOWER_UP> mtu 1500 qdisc htb state UP mode DEFAULT group default qlen 1000\n",
      "    link/ether ea:49:97:9b:4c:2b brd ff:ff:ff:ff:ff:ff\n"
     ]
    },
    {
     "name": "stderr",
     "output_type": "stream",
     "text": [
      "Cannot find device \"h1-eth0\"\n",
      "Cannot find device \"h2-eth0\"\n",
      "Cannot find device \"h1-eth0\"\n",
      "Cannot find device \"h2-eth0\"\n",
      "Cannot find device \"s1-eth1\"\n"
     ]
    },
    {
     "name": "stdout",
     "output_type": "stream",
     "text": [
      "1: lo: <LOOPBACK,UP,LOWER_UP> mtu 65536 qdisc noqueue state UNKNOWN mode DEFAULT group default qlen 1000\n",
      "    link/loopback 00:00:00:00:00:00 brd 00:00:00:00:00:00\n",
      "2: eno1np0: <BROADCAST,MULTICAST,UP,LOWER_UP> mtu 1500 qdisc mq state UP mode DEFAULT group default qlen 1000\n",
      "    link/ether bc:97:e1:79:01:40 brd ff:ff:ff:ff:ff:ff\n",
      "3: eno2np1: <BROADCAST,MULTICAST> mtu 1500 qdisc noop state DOWN mode DEFAULT group default qlen 1000\n",
      "    link/ether bc:97:e1:79:01:41 brd ff:ff:ff:ff:ff:ff\n",
      "38: gre0@NONE: <NOARP> mtu 1476 qdisc noop state DOWN mode DEFAULT group default qlen 1000\n",
      "    link/gre 0.0.0.0 brd 0.0.0.0\n",
      "39: gretap0@NONE: <BROADCAST,MULTICAST> mtu 1462 qdisc noop state DOWN mode DEFAULT group default qlen 1000\n",
      "    link/ether 00:00:00:00:00:00 brd ff:ff:ff:ff:ff:ff\n",
      "40: erspan0@NONE: <BROADCAST,MULTICAST> mtu 1450 qdisc noop state DOWN mode DEFAULT group default qlen 1000\n",
      "    link/ether 00:00:00:00:00:00 brd ff:ff:ff:ff:ff:ff\n",
      "61: s2-eth5@s1-eth5: <BROADCAST,MULTICAST,UP,LOWER_UP> mtu 1500 qdisc netem state UP mode DEFAULT group default qlen 1000\n",
      "    link/ether ae:e9:49:ff:47:68 brd ff:ff:ff:ff:ff:ff\n",
      "62: s1-eth5@s2-eth5: <BROADCAST,MULTICAST,UP,LOWER_UP> mtu 1500 qdisc netem state UP mode DEFAULT group default qlen 1000\n",
      "    link/ether 06:0c:75:90:f8:bd brd ff:ff:ff:ff:ff:ff\n",
      "63: s3-eth3@s2-eth4: <BROADCAST,MULTICAST,UP,LOWER_UP> mtu 1500 qdisc htb state UP mode DEFAULT group default qlen 1000\n",
      "    link/ether ba:d5:ab:62:a6:a5 brd ff:ff:ff:ff:ff:ff\n",
      "64: s2-eth4@s3-eth3: <BROADCAST,MULTICAST,UP,LOWER_UP> mtu 1500 qdisc htb state UP mode DEFAULT group default qlen 1000\n",
      "    link/ether a2:92:6c:c7:04:38 brd ff:ff:ff:ff:ff:ff\n",
      "65: s3-eth5@s2-eth6: <BROADCAST,MULTICAST,UP,LOWER_UP> mtu 1500 qdisc htb state UP mode DEFAULT group default qlen 1000\n",
      "    link/ether 62:f9:e4:ca:f3:25 brd ff:ff:ff:ff:ff:ff\n",
      "66: s2-eth6@s3-eth5: <BROADCAST,MULTICAST,UP,LOWER_UP> mtu 1500 qdisc htb state UP mode DEFAULT group default qlen 1000\n",
      "    link/ether 1a:be:81:ed:bd:8c brd ff:ff:ff:ff:ff:ff\n",
      "67: s1-eth4@s3-eth4: <BROADCAST,MULTICAST,UP,LOWER_UP> mtu 1500 qdisc htb state UP mode DEFAULT group default qlen 1000\n",
      "    link/ether 22:11:57:99:41:80 brd ff:ff:ff:ff:ff:ff\n",
      "68: s3-eth4@s1-eth4: <BROADCAST,MULTICAST,UP,LOWER_UP> mtu 1500 qdisc htb state UP mode DEFAULT group default qlen 1000\n",
      "    link/ether 8a:ff:4c:6f:87:43 brd ff:ff:ff:ff:ff:ff\n",
      "69: s1-eth6@s3-eth6: <BROADCAST,MULTICAST,UP,LOWER_UP> mtu 1500 qdisc htb state UP mode DEFAULT group default qlen 1000\n",
      "    link/ether 3e:01:db:4a:38:f5 brd ff:ff:ff:ff:ff:ff\n",
      "70: s3-eth6@s1-eth6: <BROADCAST,MULTICAST,UP,LOWER_UP> mtu 1500 qdisc htb state UP mode DEFAULT group default qlen 1000\n",
      "    link/ether ca:18:00:af:89:ef brd ff:ff:ff:ff:ff:ff\n",
      "72: s2-eth2@if5: <BROADCAST,MULTICAST,UP,LOWER_UP> mtu 1500 qdisc htb state UP mode DEFAULT group default qlen 1000\n",
      "    link/ether 26:f1:5b:dc:1f:af brd ff:ff:ff:ff:ff:ff link-netnsid 7\n",
      "73: s3-eth2@if5: <BROADCAST,MULTICAST,UP,LOWER_UP> mtu 1500 qdisc htb state UP mode DEFAULT group default qlen 1000\n",
      "    link/ether 26:16:43:7c:f3:f2 brd ff:ff:ff:ff:ff:ff link-netnsid 8\n",
      "74: s2-eth3@s1-eth3: <BROADCAST,MULTICAST,UP,LOWER_UP> mtu 1500 qdisc htb state UP mode DEFAULT group default qlen 1000\n",
      "    link/ether 56:24:5c:9b:4e:95 brd ff:ff:ff:ff:ff:ff\n",
      "75: s1-eth3@s2-eth3: <BROADCAST,MULTICAST,UP,LOWER_UP> mtu 1500 qdisc htb state UP mode DEFAULT group default qlen 1000\n",
      "    link/ether ea:49:97:9b:4c:2b brd ff:ff:ff:ff:ff:ff\n"
     ]
    },
    {
     "name": "stderr",
     "output_type": "stream",
     "text": [
      "sudo: mn: command not found\n"
     ]
    },
    {
     "data": {
      "text/plain": [
       "0"
      ]
     },
     "execution_count": 1,
     "metadata": {},
     "output_type": "execute_result"
    }
   ],
   "source": [
    "import os\n",
    "\n",
    "os.system('ip link show')\n",
    "\n",
    "# Clean up existing network interfaces\n",
    "os.system('sudo ip link set h1-eth0 down')\n",
    "os.system('sudo ip link set h2-eth0 down')\n",
    "os.system('sudo ip link delete h1-eth0')\n",
    "os.system('sudo ip link delete h2-eth0')\n",
    "os.system('sudo ip link delete s1-eth1')\n",
    "os.system('sudo ip link delete s1-eth2')\n",
    "os.system('sudo pkill -f simple_switch_CLI')\n",
    "os.system('sudo pkill -f simple_switch')\n",
    "\n",
    "\n",
    "# Reset Mininet\n",
    "os.system('sudo mn -c')\n",
    "\n",
    "\n",
    "# Check if interfaces are still lingering (Optional)\n",
    "os.system('ip link show')\n",
    "\n",
    "# Now you can proceed with your Mininet setup and run the script again"
   ]
  },
  {
   "cell_type": "code",
   "execution_count": 3,
   "id": "8048ffae-765d-405f-8bfb-2d0fb3520b6b",
   "metadata": {},
   "outputs": [
    {
     "name": "stdout",
     "output_type": "stream",
     "text": [
      "Cleaning up previous Mininet sessions...\n",
      "Loading required kernel modules...\n",
      "Cleaning up stale interfaces...\n",
      "Environment is clean and ready for testing\n"
     ]
    },
    {
     "name": "stderr",
     "output_type": "stream",
     "text": [
      "sudo: mn: command not found\n"
     ]
    }
   ],
   "source": [
    "%%bash\n",
    "# Clean up any existing Mininet sessions and interfaces\n",
    "echo \"Cleaning up previous Mininet sessions...\"\n",
    "sudo mn -c\n",
    "\n",
    "# Make sure needed modules are loaded\n",
    "echo \"Loading required kernel modules...\"\n",
    "sudo modprobe ip_gre\n",
    "sudo modprobe ip_tunnel\n",
    "sudo modprobe bridge\n",
    "\n",
    "# Clean up any stale interfaces\n",
    "echo \"Cleaning up stale interfaces...\"\n",
    "for intf in $(ip link show | grep -o 's[0-9]-eth[0-9]\\+' | grep -o 's[0-9]-eth[0-9]\\+'); do\n",
    "    sudo ip link delete $intf 2>/dev/null\n",
    "done\n",
    "\n",
    "for intf in $(ip link show | grep -o 'h[0-9]-eth[0-9]\\+' | grep -o 'h[0-9]-eth[0-9]\\+'); do\n",
    "    sudo ip link delete $intf 2>/dev/null\n",
    "done\n",
    "\n",
    "echo \"Environment is clean and ready for testing\""
   ]
  },
  {
   "cell_type": "code",
   "execution_count": null,
   "id": "d6d607ab-5f7c-4716-8c0f-6a8fda3c54ab",
   "metadata": {},
   "outputs": [],
   "source": []
  }
 ],
 "metadata": {
  "kernelspec": {
   "display_name": "Python 3 (ipykernel)",
   "language": "python",
   "name": "python3"
  },
  "language_info": {
   "codemirror_mode": {
    "name": "ipython",
    "version": 3
   },
   "file_extension": ".py",
   "mimetype": "text/x-python",
   "name": "python",
   "nbconvert_exporter": "python",
   "pygments_lexer": "ipython3",
   "version": "3.8.10"
  }
 },
 "nbformat": 4,
 "nbformat_minor": 5
}
