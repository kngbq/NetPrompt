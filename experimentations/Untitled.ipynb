{
 "cells": [
  {
   "cell_type": "code",
   "execution_count": 1,
   "id": "273500d1-8d08-4d2f-a96f-9c563f341d05",
   "metadata": {},
   "outputs": [
    {
     "ename": "ModuleNotFoundError",
     "evalue": "No module named 'p4runtime'",
     "output_type": "error",
     "traceback": [
      "\u001b[0;31m---------------------------------------------------------------------------\u001b[0m",
      "\u001b[0;31mModuleNotFoundError\u001b[0m                       Traceback (most recent call last)",
      "\u001b[0;32m/tmp/ipykernel_111394/1661518450.py\u001b[0m in \u001b[0;36m<module>\u001b[0;34m\u001b[0m\n\u001b[0;32m----> 1\u001b[0;31m \u001b[0;32mfrom\u001b[0m \u001b[0mp4runtime\u001b[0m\u001b[0;34m.\u001b[0m\u001b[0mshell\u001b[0m \u001b[0;32mimport\u001b[0m \u001b[0mSimpleSwitchRepl\u001b[0m\u001b[0;34m\u001b[0m\u001b[0;34m\u001b[0m\u001b[0m\n\u001b[0m\u001b[1;32m      2\u001b[0m \u001b[0;34m\u001b[0m\u001b[0m\n\u001b[1;32m      3\u001b[0m \u001b[0;31m# Connect to switch s1\u001b[0m\u001b[0;34m\u001b[0m\u001b[0;34m\u001b[0m\u001b[0m\n\u001b[1;32m      4\u001b[0m repl1 = SimpleSwitchRepl(grpc_addr='localhost:9090', \n\u001b[1;32m      5\u001b[0m                         \u001b[0mdevice_id\u001b[0m\u001b[0;34m=\u001b[0m\u001b[0;36m0\u001b[0m\u001b[0;34m,\u001b[0m\u001b[0;34m\u001b[0m\u001b[0;34m\u001b[0m\u001b[0m\n",
      "\u001b[0;31mModuleNotFoundError\u001b[0m: No module named 'p4runtime'"
     ]
    }
   ],
   "source": [
    "from p4runtime.shell import SimpleSwitchRepl\n",
    "\n",
    "# Connect to switch s1\n",
    "repl1 = SimpleSwitchRepl(grpc_addr='localhost:9090', \n",
    "                        device_id=0,\n",
    "                        p4info_path='simple_router.p4info.txt',\n",
    "                        json_path='simple_router.json')\n",
    "\n",
    "# Insert forwarding rules\n",
    "repl1.table_add(\"ipv4_lpm\", \"set_egress\", [\"10.0.1.1/32\"], [\"1\"])\n",
    "repl1.table_add(\"ipv4_lpm\", \"set_egress\", [\"10.0.2.1/32\"], [\"2\"])\n",
    "\n",
    "# Monitor counters\n",
    "print(repl1.counter_read(\"ingressPortCounter\", 1))"
   ]
  },
  {
   "cell_type": "code",
   "execution_count": null,
   "id": "c73b4b2b-9b3a-490f-a62d-7a738c1a732e",
   "metadata": {},
   "outputs": [],
   "source": []
  }
 ],
 "metadata": {
  "kernelspec": {
   "display_name": "Python 3 (ipykernel)",
   "language": "python",
   "name": "python3"
  },
  "language_info": {
   "codemirror_mode": {
    "name": "ipython",
    "version": 3
   },
   "file_extension": ".py",
   "mimetype": "text/x-python",
   "name": "python",
   "nbconvert_exporter": "python",
   "pygments_lexer": "ipython3",
   "version": "3.10.16"
  }
 },
 "nbformat": 4,
 "nbformat_minor": 5
}
